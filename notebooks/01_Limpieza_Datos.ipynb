{
 "cells": [
  {
   "cell_type": "code",
   "execution_count": 1,
   "id": "extensive-consciousness",
   "metadata": {},
   "outputs": [],
   "source": [
    "import pandas as pd\n",
    "import sys\n",
    "import matplotlib.pyplot as plt \n",
    "import seaborn as sns\n",
    "from matplotlib import font_manager as fm, rcParams\n",
    "from matplotlib.offsetbox import AnchoredText"
   ]
  },
  {
   "cell_type": "code",
   "execution_count": 2,
   "id": "rocky-evanescence",
   "metadata": {},
   "outputs": [],
   "source": [
    "sys.path.append(\"../\")"
   ]
  },
  {
   "cell_type": "code",
   "execution_count": 3,
   "id": "sufficient-israel",
   "metadata": {},
   "outputs": [],
   "source": [
    "df = pd.read_csv('../data/measurements.csv')"
   ]
  },
  {
   "cell_type": "code",
   "execution_count": 4,
   "id": "removed-envelope",
   "metadata": {},
   "outputs": [
    {
     "name": "stdout",
     "output_type": "stream",
     "text": [
      "<class 'pandas.core.frame.DataFrame'>\n",
      "RangeIndex: 388 entries, 0 to 387\n",
      "Data columns (total 12 columns):\n",
      " #   Column         Non-Null Count  Dtype \n",
      "---  ------         --------------  ----- \n",
      " 0   distance       388 non-null    object\n",
      " 1   consume        388 non-null    object\n",
      " 2   speed          388 non-null    int64 \n",
      " 3   temp_inside    376 non-null    object\n",
      " 4   temp_outside   388 non-null    int64 \n",
      " 5   specials       93 non-null     object\n",
      " 6   gas_type       388 non-null    object\n",
      " 7   AC             388 non-null    int64 \n",
      " 8   rain           388 non-null    int64 \n",
      " 9   sun            388 non-null    int64 \n",
      " 10  refill liters  13 non-null     object\n",
      " 11  refill gas     13 non-null     object\n",
      "dtypes: int64(5), object(7)\n",
      "memory usage: 36.5+ KB\n"
     ]
    }
   ],
   "source": [
    "df.info()"
   ]
  },
  {
   "cell_type": "code",
   "execution_count": 5,
   "id": "cardiac-produce",
   "metadata": {},
   "outputs": [],
   "source": [
    "columns_names = ['distance', 'consume', 'speed', 'temp_inside', 'temp_outside', 'specials',\n",
    "       'gas_type', 'ac', 'rain', 'sun', 'refill_liters', 'refill_gas']"
   ]
  },
  {
   "cell_type": "code",
   "execution_count": 6,
   "id": "fixed-processor",
   "metadata": {},
   "outputs": [],
   "source": [
    "df.columns = columns_names"
   ]
  },
  {
   "cell_type": "code",
   "execution_count": 7,
   "id": "international-wallace",
   "metadata": {},
   "outputs": [
    {
     "data": {
      "text/html": [
       "<div>\n",
       "<style scoped>\n",
       "    .dataframe tbody tr th:only-of-type {\n",
       "        vertical-align: middle;\n",
       "    }\n",
       "\n",
       "    .dataframe tbody tr th {\n",
       "        vertical-align: top;\n",
       "    }\n",
       "\n",
       "    .dataframe thead th {\n",
       "        text-align: right;\n",
       "    }\n",
       "</style>\n",
       "<table border=\"1\" class=\"dataframe\">\n",
       "  <thead>\n",
       "    <tr style=\"text-align: right;\">\n",
       "      <th></th>\n",
       "      <th>distance</th>\n",
       "      <th>consume</th>\n",
       "      <th>speed</th>\n",
       "      <th>temp_inside</th>\n",
       "      <th>temp_outside</th>\n",
       "      <th>specials</th>\n",
       "      <th>gas_type</th>\n",
       "      <th>ac</th>\n",
       "      <th>rain</th>\n",
       "      <th>sun</th>\n",
       "      <th>refill_liters</th>\n",
       "      <th>refill_gas</th>\n",
       "    </tr>\n",
       "  </thead>\n",
       "  <tbody>\n",
       "    <tr>\n",
       "      <th>0</th>\n",
       "      <td>28</td>\n",
       "      <td>5</td>\n",
       "      <td>26</td>\n",
       "      <td>21,5</td>\n",
       "      <td>12</td>\n",
       "      <td>NaN</td>\n",
       "      <td>E10</td>\n",
       "      <td>0</td>\n",
       "      <td>0</td>\n",
       "      <td>0</td>\n",
       "      <td>45</td>\n",
       "      <td>E10</td>\n",
       "    </tr>\n",
       "    <tr>\n",
       "      <th>44</th>\n",
       "      <td>5,4</td>\n",
       "      <td>3,3</td>\n",
       "      <td>32</td>\n",
       "      <td>21,5</td>\n",
       "      <td>7</td>\n",
       "      <td>NaN</td>\n",
       "      <td>SP98</td>\n",
       "      <td>0</td>\n",
       "      <td>0</td>\n",
       "      <td>0</td>\n",
       "      <td>37,6</td>\n",
       "      <td>SP98</td>\n",
       "    </tr>\n",
       "    <tr>\n",
       "      <th>82</th>\n",
       "      <td>10,5</td>\n",
       "      <td>3,6</td>\n",
       "      <td>42</td>\n",
       "      <td>20</td>\n",
       "      <td>10</td>\n",
       "      <td>NaN</td>\n",
       "      <td>SP98</td>\n",
       "      <td>0</td>\n",
       "      <td>0</td>\n",
       "      <td>0</td>\n",
       "      <td>37,7</td>\n",
       "      <td>SP98</td>\n",
       "    </tr>\n",
       "    <tr>\n",
       "      <th>106</th>\n",
       "      <td>162,7</td>\n",
       "      <td>5,5</td>\n",
       "      <td>75</td>\n",
       "      <td>23</td>\n",
       "      <td>1</td>\n",
       "      <td>NaN</td>\n",
       "      <td>SP98</td>\n",
       "      <td>0</td>\n",
       "      <td>0</td>\n",
       "      <td>0</td>\n",
       "      <td>45</td>\n",
       "      <td>SP98</td>\n",
       "    </tr>\n",
       "    <tr>\n",
       "      <th>139</th>\n",
       "      <td>16,1</td>\n",
       "      <td>5,4</td>\n",
       "      <td>24</td>\n",
       "      <td>21,5</td>\n",
       "      <td>7</td>\n",
       "      <td>rain</td>\n",
       "      <td>E10</td>\n",
       "      <td>0</td>\n",
       "      <td>1</td>\n",
       "      <td>0</td>\n",
       "      <td>38</td>\n",
       "      <td>E10</td>\n",
       "    </tr>\n",
       "    <tr>\n",
       "      <th>171</th>\n",
       "      <td>44,4</td>\n",
       "      <td>4,8</td>\n",
       "      <td>38</td>\n",
       "      <td>21,5</td>\n",
       "      <td>8</td>\n",
       "      <td>NaN</td>\n",
       "      <td>E10</td>\n",
       "      <td>0</td>\n",
       "      <td>0</td>\n",
       "      <td>0</td>\n",
       "      <td>38,3</td>\n",
       "      <td>E10</td>\n",
       "    </tr>\n",
       "    <tr>\n",
       "      <th>191</th>\n",
       "      <td>43,7</td>\n",
       "      <td>4,7</td>\n",
       "      <td>44</td>\n",
       "      <td>22</td>\n",
       "      <td>9</td>\n",
       "      <td>half rain half sun</td>\n",
       "      <td>SP98</td>\n",
       "      <td>0</td>\n",
       "      <td>1</td>\n",
       "      <td>0</td>\n",
       "      <td>10</td>\n",
       "      <td>SP98</td>\n",
       "    </tr>\n",
       "    <tr>\n",
       "      <th>192</th>\n",
       "      <td>12,1</td>\n",
       "      <td>4,2</td>\n",
       "      <td>43</td>\n",
       "      <td>22</td>\n",
       "      <td>4</td>\n",
       "      <td>NaN</td>\n",
       "      <td>SP98</td>\n",
       "      <td>0</td>\n",
       "      <td>0</td>\n",
       "      <td>0</td>\n",
       "      <td>39</td>\n",
       "      <td>SP98</td>\n",
       "    </tr>\n",
       "    <tr>\n",
       "      <th>234</th>\n",
       "      <td>19</td>\n",
       "      <td>4,5</td>\n",
       "      <td>29</td>\n",
       "      <td>22,5</td>\n",
       "      <td>10</td>\n",
       "      <td>NaN</td>\n",
       "      <td>E10</td>\n",
       "      <td>0</td>\n",
       "      <td>0</td>\n",
       "      <td>0</td>\n",
       "      <td>39</td>\n",
       "      <td>E10</td>\n",
       "    </tr>\n",
       "    <tr>\n",
       "      <th>274</th>\n",
       "      <td>25,7</td>\n",
       "      <td>4,9</td>\n",
       "      <td>50</td>\n",
       "      <td>22</td>\n",
       "      <td>10</td>\n",
       "      <td>rain</td>\n",
       "      <td>SP98</td>\n",
       "      <td>0</td>\n",
       "      <td>1</td>\n",
       "      <td>0</td>\n",
       "      <td>41</td>\n",
       "      <td>SP98</td>\n",
       "    </tr>\n",
       "    <tr>\n",
       "      <th>313</th>\n",
       "      <td>11,3</td>\n",
       "      <td>4,3</td>\n",
       "      <td>38</td>\n",
       "      <td>22</td>\n",
       "      <td>17</td>\n",
       "      <td>NaN</td>\n",
       "      <td>SP98</td>\n",
       "      <td>0</td>\n",
       "      <td>0</td>\n",
       "      <td>0</td>\n",
       "      <td>37</td>\n",
       "      <td>SP98</td>\n",
       "    </tr>\n",
       "    <tr>\n",
       "      <th>325</th>\n",
       "      <td>16,6</td>\n",
       "      <td>3,7</td>\n",
       "      <td>49</td>\n",
       "      <td>22</td>\n",
       "      <td>17</td>\n",
       "      <td>NaN</td>\n",
       "      <td>E10</td>\n",
       "      <td>0</td>\n",
       "      <td>0</td>\n",
       "      <td>0</td>\n",
       "      <td>37,7</td>\n",
       "      <td>E10</td>\n",
       "    </tr>\n",
       "    <tr>\n",
       "      <th>349</th>\n",
       "      <td>18,3</td>\n",
       "      <td>4,3</td>\n",
       "      <td>46</td>\n",
       "      <td>22</td>\n",
       "      <td>16</td>\n",
       "      <td>NaN</td>\n",
       "      <td>SP98</td>\n",
       "      <td>0</td>\n",
       "      <td>0</td>\n",
       "      <td>0</td>\n",
       "      <td>37,2</td>\n",
       "      <td>SP98</td>\n",
       "    </tr>\n",
       "  </tbody>\n",
       "</table>\n",
       "</div>"
      ],
      "text/plain": [
       "    distance consume  speed temp_inside  temp_outside            specials  \\\n",
       "0         28       5     26        21,5            12                 NaN   \n",
       "44       5,4     3,3     32        21,5             7                 NaN   \n",
       "82      10,5     3,6     42          20            10                 NaN   \n",
       "106    162,7     5,5     75          23             1                 NaN   \n",
       "139     16,1     5,4     24        21,5             7                rain   \n",
       "171     44,4     4,8     38        21,5             8                 NaN   \n",
       "191     43,7     4,7     44          22             9  half rain half sun   \n",
       "192     12,1     4,2     43          22             4                 NaN   \n",
       "234       19     4,5     29        22,5            10                 NaN   \n",
       "274     25,7     4,9     50          22            10                rain   \n",
       "313     11,3     4,3     38          22            17                 NaN   \n",
       "325     16,6     3,7     49          22            17                 NaN   \n",
       "349     18,3     4,3     46          22            16                 NaN   \n",
       "\n",
       "    gas_type  ac  rain  sun refill_liters refill_gas  \n",
       "0        E10   0     0    0            45        E10  \n",
       "44      SP98   0     0    0          37,6       SP98  \n",
       "82      SP98   0     0    0          37,7       SP98  \n",
       "106     SP98   0     0    0            45       SP98  \n",
       "139      E10   0     1    0            38        E10  \n",
       "171      E10   0     0    0          38,3        E10  \n",
       "191     SP98   0     1    0            10       SP98  \n",
       "192     SP98   0     0    0            39       SP98  \n",
       "234      E10   0     0    0            39        E10  \n",
       "274     SP98   0     1    0            41       SP98  \n",
       "313     SP98   0     0    0            37       SP98  \n",
       "325      E10   0     0    0          37,7        E10  \n",
       "349     SP98   0     0    0          37,2       SP98  "
      ]
     },
     "execution_count": 7,
     "metadata": {},
     "output_type": "execute_result"
    }
   ],
   "source": [
    "df[df.refill_liters.notna()]"
   ]
  },
  {
   "cell_type": "code",
   "execution_count": 8,
   "id": "stock-glass",
   "metadata": {
    "scrolled": true
   },
   "outputs": [
    {
     "data": {
      "text/plain": [
       "rain                  32\n",
       "sun                   27\n",
       "AC rain                9\n",
       "ac                     8\n",
       "AC                     6\n",
       "sun ac                 3\n",
       "snow                   3\n",
       "half rain half sun     1\n",
       "ac rain                1\n",
       "AC sun                 1\n",
       "AC Sun                 1\n",
       "AC snow                1\n",
       "Name: specials, dtype: int64"
      ]
     },
     "execution_count": 8,
     "metadata": {},
     "output_type": "execute_result"
    }
   ],
   "source": [
    "df.specials.value_counts()"
   ]
  },
  {
   "cell_type": "markdown",
   "id": "intermediate-purchase",
   "metadata": {},
   "source": []
  },
  {
   "cell_type": "code",
   "execution_count": 9,
   "id": "binding-diabetes",
   "metadata": {
    "scrolled": true
   },
   "outputs": [
    {
     "name": "stderr",
     "output_type": "stream",
     "text": [
      "<ipython-input-9-332b205b77c4>:1: SettingWithCopyWarning: \n",
      "A value is trying to be set on a copy of a slice from a DataFrame\n",
      "\n",
      "See the caveats in the documentation: https://pandas.pydata.org/pandas-docs/stable/user_guide/indexing.html#returning-a-view-versus-a-copy\n",
      "  df.specials[df.specials == 'AC snow'] = 'AC Snow'\n"
     ]
    }
   ],
   "source": [
    "df.specials[df.specials == 'AC snow'] = 'AC Snow'"
   ]
  },
  {
   "cell_type": "code",
   "execution_count": 10,
   "id": "delayed-emission",
   "metadata": {
    "scrolled": true
   },
   "outputs": [
    {
     "name": "stderr",
     "output_type": "stream",
     "text": [
      "<ipython-input-10-216b32b80988>:1: SettingWithCopyWarning: \n",
      "A value is trying to be set on a copy of a slice from a DataFrame\n",
      "\n",
      "See the caveats in the documentation: https://pandas.pydata.org/pandas-docs/stable/user_guide/indexing.html#returning-a-view-versus-a-copy\n",
      "  df.specials[df.specials == 'sun'] = 'Sun'\n"
     ]
    }
   ],
   "source": [
    "df.specials[df.specials == 'sun'] = 'Sun'"
   ]
  },
  {
   "cell_type": "code",
   "execution_count": 11,
   "id": "blind-canadian",
   "metadata": {
    "scrolled": true
   },
   "outputs": [
    {
     "name": "stderr",
     "output_type": "stream",
     "text": [
      "<ipython-input-11-f30a93bce499>:1: SettingWithCopyWarning: \n",
      "A value is trying to be set on a copy of a slice from a DataFrame\n",
      "\n",
      "See the caveats in the documentation: https://pandas.pydata.org/pandas-docs/stable/user_guide/indexing.html#returning-a-view-versus-a-copy\n",
      "  df.specials[df.specials == 'rain'] = 'Rain'\n"
     ]
    }
   ],
   "source": [
    "df.specials[df.specials == 'rain'] = 'Rain'"
   ]
  },
  {
   "cell_type": "code",
   "execution_count": 12,
   "id": "banned-phrase",
   "metadata": {
    "scrolled": true
   },
   "outputs": [
    {
     "name": "stderr",
     "output_type": "stream",
     "text": [
      "<ipython-input-12-ec0c57549dbd>:1: SettingWithCopyWarning: \n",
      "A value is trying to be set on a copy of a slice from a DataFrame\n",
      "\n",
      "See the caveats in the documentation: https://pandas.pydata.org/pandas-docs/stable/user_guide/indexing.html#returning-a-view-versus-a-copy\n",
      "  df.specials[df.specials == 'ac'] = 'AC'\n"
     ]
    }
   ],
   "source": [
    "df.specials[df.specials == 'ac'] = 'AC'"
   ]
  },
  {
   "cell_type": "code",
   "execution_count": 13,
   "id": "august-grant",
   "metadata": {
    "scrolled": true
   },
   "outputs": [
    {
     "name": "stderr",
     "output_type": "stream",
     "text": [
      "<ipython-input-13-1769b8fbcacc>:1: SettingWithCopyWarning: \n",
      "A value is trying to be set on a copy of a slice from a DataFrame\n",
      "\n",
      "See the caveats in the documentation: https://pandas.pydata.org/pandas-docs/stable/user_guide/indexing.html#returning-a-view-versus-a-copy\n",
      "  df.specials[df.specials == 'sun ac'] = 'AC Sun'\n"
     ]
    }
   ],
   "source": [
    "df.specials[df.specials == 'sun ac'] = 'AC Sun'"
   ]
  },
  {
   "cell_type": "code",
   "execution_count": 14,
   "id": "entertaining-twenty",
   "metadata": {
    "scrolled": false
   },
   "outputs": [
    {
     "name": "stderr",
     "output_type": "stream",
     "text": [
      "<ipython-input-14-22ed7aadcea6>:1: SettingWithCopyWarning: \n",
      "A value is trying to be set on a copy of a slice from a DataFrame\n",
      "\n",
      "See the caveats in the documentation: https://pandas.pydata.org/pandas-docs/stable/user_guide/indexing.html#returning-a-view-versus-a-copy\n",
      "  df.specials[df.specials == 'ac rain'] = 'AC Rain'\n"
     ]
    }
   ],
   "source": [
    "df.specials[df.specials == 'ac rain'] = 'AC Rain'"
   ]
  },
  {
   "cell_type": "code",
   "execution_count": 15,
   "id": "communist-palmer",
   "metadata": {
    "scrolled": false
   },
   "outputs": [
    {
     "name": "stderr",
     "output_type": "stream",
     "text": [
      "<ipython-input-15-42999fe6faf4>:1: SettingWithCopyWarning: \n",
      "A value is trying to be set on a copy of a slice from a DataFrame\n",
      "\n",
      "See the caveats in the documentation: https://pandas.pydata.org/pandas-docs/stable/user_guide/indexing.html#returning-a-view-versus-a-copy\n",
      "  df.specials[df.specials == 'AC rain'] = 'AC Rain'\n"
     ]
    }
   ],
   "source": [
    "df.specials[df.specials == 'AC rain'] = 'AC Rain'"
   ]
  },
  {
   "cell_type": "code",
   "execution_count": 16,
   "id": "aquatic-reynolds",
   "metadata": {
    "scrolled": true
   },
   "outputs": [
    {
     "name": "stderr",
     "output_type": "stream",
     "text": [
      "<ipython-input-16-fdbc91976ef9>:1: SettingWithCopyWarning: \n",
      "A value is trying to be set on a copy of a slice from a DataFrame\n",
      "\n",
      "See the caveats in the documentation: https://pandas.pydata.org/pandas-docs/stable/user_guide/indexing.html#returning-a-view-versus-a-copy\n",
      "  df.specials[df.specials == 'AC sun'] = 'AC Sun'\n"
     ]
    }
   ],
   "source": [
    "df.specials[df.specials == 'AC sun'] = 'AC Sun'"
   ]
  },
  {
   "cell_type": "code",
   "execution_count": 17,
   "id": "divine-hepatitis",
   "metadata": {
    "scrolled": false
   },
   "outputs": [
    {
     "name": "stderr",
     "output_type": "stream",
     "text": [
      "<ipython-input-17-b4de3ac64d52>:1: SettingWithCopyWarning: \n",
      "A value is trying to be set on a copy of a slice from a DataFrame\n",
      "\n",
      "See the caveats in the documentation: https://pandas.pydata.org/pandas-docs/stable/user_guide/indexing.html#returning-a-view-versus-a-copy\n",
      "  df.specials[df.specials == 'snow'] = 'Snow'\n"
     ]
    }
   ],
   "source": [
    "df.specials[df.specials == 'snow'] = 'Snow'"
   ]
  },
  {
   "cell_type": "code",
   "execution_count": 18,
   "id": "personalized-austin",
   "metadata": {
    "scrolled": false
   },
   "outputs": [
    {
     "name": "stderr",
     "output_type": "stream",
     "text": [
      "<ipython-input-18-216b32b80988>:1: SettingWithCopyWarning: \n",
      "A value is trying to be set on a copy of a slice from a DataFrame\n",
      "\n",
      "See the caveats in the documentation: https://pandas.pydata.org/pandas-docs/stable/user_guide/indexing.html#returning-a-view-versus-a-copy\n",
      "  df.specials[df.specials == 'sun'] = 'Sun'\n"
     ]
    }
   ],
   "source": [
    "df.specials[df.specials == 'sun'] = 'Sun'"
   ]
  },
  {
   "cell_type": "code",
   "execution_count": 19,
   "id": "perfect-hands",
   "metadata": {
    "scrolled": false
   },
   "outputs": [
    {
     "name": "stderr",
     "output_type": "stream",
     "text": [
      "<ipython-input-19-14d409744d13>:1: SettingWithCopyWarning: \n",
      "A value is trying to be set on a copy of a slice from a DataFrame\n",
      "\n",
      "See the caveats in the documentation: https://pandas.pydata.org/pandas-docs/stable/user_guide/indexing.html#returning-a-view-versus-a-copy\n",
      "  df.specials[df.specials == 'half rain half sun'] = 'Rain_Sun'\n"
     ]
    }
   ],
   "source": [
    "df.specials[df.specials == 'half rain half sun'] = 'Rain_Sun'"
   ]
  },
  {
   "cell_type": "code",
   "execution_count": 20,
   "id": "enormous-trinity",
   "metadata": {},
   "outputs": [],
   "source": [
    "def numerico(elem):\n",
    "    respuesta = float(elem.replace(',', '.'))\n",
    "    return respuesta"
   ]
  },
  {
   "cell_type": "code",
   "execution_count": 21,
   "id": "practical-beach",
   "metadata": {},
   "outputs": [],
   "source": [
    "df.consume = df.consume.apply(numerico)"
   ]
  },
  {
   "cell_type": "code",
   "execution_count": 22,
   "id": "seeing-morris",
   "metadata": {},
   "outputs": [],
   "source": [
    "df.distance = df.distance.apply(numerico)"
   ]
  },
  {
   "cell_type": "code",
   "execution_count": null,
   "id": "indirect-withdrawal",
   "metadata": {},
   "outputs": [],
   "source": [
    "df.temp_inside = df.temp_inside.apply(numerico)"
   ]
  },
  {
   "cell_type": "code",
   "execution_count": 25,
   "id": "representative-knowing",
   "metadata": {},
   "outputs": [],
   "source": [
    "df.specials = df.specials.fillna('Otro')"
   ]
  },
  {
   "cell_type": "code",
   "execution_count": 26,
   "id": "affecting-howard",
   "metadata": {
    "scrolled": true
   },
   "outputs": [
    {
     "name": "stdout",
     "output_type": "stream",
     "text": [
      "<class 'pandas.core.frame.DataFrame'>\n",
      "RangeIndex: 388 entries, 0 to 387\n",
      "Data columns (total 12 columns):\n",
      " #   Column         Non-Null Count  Dtype  \n",
      "---  ------         --------------  -----  \n",
      " 0   distance       388 non-null    float64\n",
      " 1   consume        388 non-null    float64\n",
      " 2   speed          388 non-null    int64  \n",
      " 3   temp_inside    376 non-null    object \n",
      " 4   temp_outside   388 non-null    int64  \n",
      " 5   specials       388 non-null    object \n",
      " 6   gas_type       388 non-null    object \n",
      " 7   ac             388 non-null    int64  \n",
      " 8   rain           388 non-null    int64  \n",
      " 9   sun            388 non-null    int64  \n",
      " 10  refill_liters  13 non-null     object \n",
      " 11  refill_gas     13 non-null     object \n",
      "dtypes: float64(2), int64(5), object(5)\n",
      "memory usage: 36.5+ KB\n"
     ]
    }
   ],
   "source": [
    "df.info()"
   ]
  },
  {
   "cell_type": "code",
   "execution_count": 35,
   "id": "egyptian-cleaning",
   "metadata": {},
   "outputs": [],
   "source": [
    "df['consumo_abs'] = df.consume*df.distance/100"
   ]
  },
  {
   "cell_type": "code",
   "execution_count": 36,
   "id": "passing-aberdeen",
   "metadata": {
    "scrolled": false
   },
   "outputs": [],
   "source": [
    "df['CO2'] = df.consumo_abs * 2300"
   ]
  },
  {
   "cell_type": "code",
   "execution_count": 37,
   "id": "southeast-journalism",
   "metadata": {
    "scrolled": true
   },
   "outputs": [],
   "source": [
    "df['CO2_km'] = df.CO2 / df.distance"
   ]
  },
  {
   "cell_type": "markdown",
   "id": "toxic-arlington",
   "metadata": {},
   "source": [
    "https://www.leaseplango.es/blog/conduccion-eficiente/calcular-emisiones-co2-coche/\n",
    "\n",
    "el coche se tiene que mantener en un margen de 127.7 para que las emisiones sean aceptables y no se considere que se está deteriorando el motor"
   ]
  },
  {
   "cell_type": "code",
   "execution_count": 38,
   "id": "danish-heating",
   "metadata": {},
   "outputs": [],
   "source": [
    "df['speed_range'] = pd.cut(df.speed, bins=[0, 30, 60, 90])"
   ]
  },
  {
   "cell_type": "code",
   "execution_count": 39,
   "id": "sonic-spell",
   "metadata": {},
   "outputs": [],
   "source": [
    "df['temp_o_range'] = pd.cut(df.temp_outside, bins=[-5, 0, 5, 10, 15, 20, 25, 30, 35])"
   ]
  },
  {
   "cell_type": "code",
   "execution_count": 40,
   "id": "straight-enterprise",
   "metadata": {
    "scrolled": true
   },
   "outputs": [
    {
     "data": {
      "text/html": [
       "<div>\n",
       "<style scoped>\n",
       "    .dataframe tbody tr th:only-of-type {\n",
       "        vertical-align: middle;\n",
       "    }\n",
       "\n",
       "    .dataframe tbody tr th {\n",
       "        vertical-align: top;\n",
       "    }\n",
       "\n",
       "    .dataframe thead th {\n",
       "        text-align: right;\n",
       "    }\n",
       "</style>\n",
       "<table border=\"1\" class=\"dataframe\">\n",
       "  <thead>\n",
       "    <tr style=\"text-align: right;\">\n",
       "      <th></th>\n",
       "      <th>distance</th>\n",
       "      <th>consume</th>\n",
       "      <th>speed</th>\n",
       "      <th>temp_inside</th>\n",
       "      <th>temp_outside</th>\n",
       "      <th>specials</th>\n",
       "      <th>gas_type</th>\n",
       "      <th>ac</th>\n",
       "      <th>rain</th>\n",
       "      <th>sun</th>\n",
       "      <th>refill_liters</th>\n",
       "      <th>refill_gas</th>\n",
       "      <th>consumo_abs</th>\n",
       "      <th>CO2</th>\n",
       "      <th>CO2_km</th>\n",
       "      <th>speed_range</th>\n",
       "      <th>temp_o_range</th>\n",
       "    </tr>\n",
       "  </thead>\n",
       "  <tbody>\n",
       "    <tr>\n",
       "      <th>0</th>\n",
       "      <td>28.0</td>\n",
       "      <td>5.0</td>\n",
       "      <td>26</td>\n",
       "      <td>21,5</td>\n",
       "      <td>12</td>\n",
       "      <td>Otro</td>\n",
       "      <td>E10</td>\n",
       "      <td>0</td>\n",
       "      <td>0</td>\n",
       "      <td>0</td>\n",
       "      <td>45</td>\n",
       "      <td>E10</td>\n",
       "      <td>1.4000</td>\n",
       "      <td>3220.00</td>\n",
       "      <td>115.0</td>\n",
       "      <td>(0, 30]</td>\n",
       "      <td>(10, 15]</td>\n",
       "    </tr>\n",
       "    <tr>\n",
       "      <th>1</th>\n",
       "      <td>12.0</td>\n",
       "      <td>4.2</td>\n",
       "      <td>30</td>\n",
       "      <td>21,5</td>\n",
       "      <td>13</td>\n",
       "      <td>Otro</td>\n",
       "      <td>E10</td>\n",
       "      <td>0</td>\n",
       "      <td>0</td>\n",
       "      <td>0</td>\n",
       "      <td>NaN</td>\n",
       "      <td>NaN</td>\n",
       "      <td>0.5040</td>\n",
       "      <td>1159.20</td>\n",
       "      <td>96.6</td>\n",
       "      <td>(0, 30]</td>\n",
       "      <td>(10, 15]</td>\n",
       "    </tr>\n",
       "    <tr>\n",
       "      <th>2</th>\n",
       "      <td>11.2</td>\n",
       "      <td>5.5</td>\n",
       "      <td>38</td>\n",
       "      <td>21,5</td>\n",
       "      <td>15</td>\n",
       "      <td>Otro</td>\n",
       "      <td>E10</td>\n",
       "      <td>0</td>\n",
       "      <td>0</td>\n",
       "      <td>0</td>\n",
       "      <td>NaN</td>\n",
       "      <td>NaN</td>\n",
       "      <td>0.6160</td>\n",
       "      <td>1416.80</td>\n",
       "      <td>126.5</td>\n",
       "      <td>(30, 60]</td>\n",
       "      <td>(10, 15]</td>\n",
       "    </tr>\n",
       "    <tr>\n",
       "      <th>3</th>\n",
       "      <td>12.9</td>\n",
       "      <td>3.9</td>\n",
       "      <td>36</td>\n",
       "      <td>21,5</td>\n",
       "      <td>14</td>\n",
       "      <td>Otro</td>\n",
       "      <td>E10</td>\n",
       "      <td>0</td>\n",
       "      <td>0</td>\n",
       "      <td>0</td>\n",
       "      <td>NaN</td>\n",
       "      <td>NaN</td>\n",
       "      <td>0.5031</td>\n",
       "      <td>1157.13</td>\n",
       "      <td>89.7</td>\n",
       "      <td>(30, 60]</td>\n",
       "      <td>(10, 15]</td>\n",
       "    </tr>\n",
       "    <tr>\n",
       "      <th>4</th>\n",
       "      <td>18.5</td>\n",
       "      <td>4.5</td>\n",
       "      <td>46</td>\n",
       "      <td>21,5</td>\n",
       "      <td>15</td>\n",
       "      <td>Otro</td>\n",
       "      <td>E10</td>\n",
       "      <td>0</td>\n",
       "      <td>0</td>\n",
       "      <td>0</td>\n",
       "      <td>NaN</td>\n",
       "      <td>NaN</td>\n",
       "      <td>0.8325</td>\n",
       "      <td>1914.75</td>\n",
       "      <td>103.5</td>\n",
       "      <td>(30, 60]</td>\n",
       "      <td>(10, 15]</td>\n",
       "    </tr>\n",
       "  </tbody>\n",
       "</table>\n",
       "</div>"
      ],
      "text/plain": [
       "   distance  consume  speed temp_inside  temp_outside specials gas_type  ac  \\\n",
       "0      28.0      5.0     26        21,5            12     Otro      E10   0   \n",
       "1      12.0      4.2     30        21,5            13     Otro      E10   0   \n",
       "2      11.2      5.5     38        21,5            15     Otro      E10   0   \n",
       "3      12.9      3.9     36        21,5            14     Otro      E10   0   \n",
       "4      18.5      4.5     46        21,5            15     Otro      E10   0   \n",
       "\n",
       "   rain  sun refill_liters refill_gas  consumo_abs      CO2  CO2_km  \\\n",
       "0     0    0            45        E10       1.4000  3220.00   115.0   \n",
       "1     0    0           NaN        NaN       0.5040  1159.20    96.6   \n",
       "2     0    0           NaN        NaN       0.6160  1416.80   126.5   \n",
       "3     0    0           NaN        NaN       0.5031  1157.13    89.7   \n",
       "4     0    0           NaN        NaN       0.8325  1914.75   103.5   \n",
       "\n",
       "  speed_range temp_o_range  \n",
       "0     (0, 30]     (10, 15]  \n",
       "1     (0, 30]     (10, 15]  \n",
       "2    (30, 60]     (10, 15]  \n",
       "3    (30, 60]     (10, 15]  \n",
       "4    (30, 60]     (10, 15]  "
      ]
     },
     "execution_count": 40,
     "metadata": {},
     "output_type": "execute_result"
    }
   ],
   "source": [
    "df.head()"
   ]
  },
  {
   "cell_type": "code",
   "execution_count": 41,
   "id": "regional-pendant",
   "metadata": {},
   "outputs": [],
   "source": [
    "df.to_csv('../data/medidas_coche.csv')"
   ]
  }
 ],
 "metadata": {
  "kernelspec": {
   "display_name": "Python 3",
   "language": "python",
   "name": "python3"
  },
  "language_info": {
   "codemirror_mode": {
    "name": "ipython",
    "version": 3
   },
   "file_extension": ".py",
   "mimetype": "text/x-python",
   "name": "python",
   "nbconvert_exporter": "python",
   "pygments_lexer": "ipython3",
   "version": "3.8.5"
  }
 },
 "nbformat": 4,
 "nbformat_minor": 5
}
